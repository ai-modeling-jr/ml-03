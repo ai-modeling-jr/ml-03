{
 "cells": [
  {
   "cell_type": "code",
   "execution_count": null,
   "metadata": {
    "colab": {
     "base_uri": "https://localhost:8080/"
    },
    "id": "yQIi_JhK243G",
    "outputId": "5eb296ea-ce3d-4f88-cbd7-00294bf19091"
   },
   "outputs": [],
   "source": [
    "# !pip install mglearn"
   ]
  },
  {
   "cell_type": "markdown",
   "metadata": {
    "id": "xdlpRk691peC"
   },
   "source": [
    "# 지도학습 - 선형회귀 (Linear Regression)\n",
    "\n",
    "회귀 모델이란?\n",
    "\n",
    "- 어떤 자료에 대해서 그 값에 영향을 주는 조건을 고려하여 구한 평균 <br>\n",
    "(어떤 데이터들이 굉장히 크거나 작을지라도 전체적으로 이 데이터들은 전체 평균으로 회귀하려는 특징이 있다는 통계학 기법)\n"
   ]
  },
  {
   "cell_type": "markdown",
   "metadata": {
    "id": "8O0kNfUf_AhW"
   },
   "source": [
    "- \\\\( y = h(x_1, x_2, x_3, ..., x_k; W_1, W_2, W_3, ..., W_k) + \\epsilon \\\\)\n",
    "\n",
    " - h() : 조건에 따른 평균을 구하는 함수 (회귀 모델)\n",
    " - x : 어떤 조건(특성)\n",
    " - W : 각 조건의 영향력(가중치)\n",
    " - e : ‘오차항’을 의미. 다양한 현실적인 한계로 인해 발생하는 불확실성으로 일종의 잡음(noise)"
   ]
  },
  {
   "cell_type": "markdown",
   "metadata": {
    "id": "t9fnb7Bu4qFF"
   },
   "source": [
    "선형 모델이란?\n",
    "\n",
    "- 입력 특성에 대한 선형 함수를 만들어 예측을 수행\n",
    "\n",
    "- 다양한 선형 모델이 존재\n",
    "\n",
    "- 분류와 회귀에 모두 사용 가능\n"
   ]
  },
  {
   "cell_type": "markdown",
   "metadata": {
    "id": "vDXzxEss5F1M"
   },
   "source": [
    "<center>\n",
    "\n",
    "시험성적 데이터\n",
    "\n",
    "|X ( 학습 시간 )| Y ( 시험 점수 )|\n",
    "|---|---|\n",
    "|9 |90|\n",
    "|8 |80|\n",
    "|4| 40|\n",
    "|2| 20|\n",
    "\n",
    "7시간 공부 할 경우 성적은?\n",
    "</center>\n",
    "\n"
   ]
  },
  {
   "cell_type": "code",
   "execution_count": null,
   "metadata": {
    "colab": {
     "base_uri": "https://localhost:8080/",
     "height": 435
    },
    "id": "u8cTax-01dWx",
    "outputId": "39a153c6-53b1-489b-e9b3-40672d9c5f88"
   },
   "outputs": [],
   "source": [
    "import matplotlib.pyplot as plt\n",
    "%matplotlib inline\n",
    "\n",
    "x = [9, 8, 4, 2]\n",
    "y = [90, 80, 40, 20]\n",
    "\n",
    "plt.xlim(0, 10)\n",
    "plt.ylim(0, 100)\n",
    "plt.plot(x, y, 'b-o')\n",
    "plt.grid()\n",
    "plt.show()"
   ]
  },
  {
   "cell_type": "markdown",
   "metadata": {
    "id": "JIfam4px_Myj"
   },
   "source": [
    " \\\\( y=ax+b \\\\)\n",
    "\n",
    " - a : 기울기\n",
    " - b : 절편"
   ]
  },
  {
   "cell_type": "markdown",
   "metadata": {
    "id": "DnaEGSFmUhs-"
   },
   "source": [
    "<center>\n",
    "\n",
    "시험성적 데이터\n",
    "\n",
    "|X ( 학습 시간 )| Y ( 시험 점수 )|\n",
    "|---|---|\n",
    "|8 |97|\n",
    "|6 |91|\n",
    "|4| 93|\n",
    "|2| 81|\n",
    "\n",
    "7시간 공부 할 경우 성적은?\n",
    "</center>\n",
    "\n"
   ]
  },
  {
   "cell_type": "code",
   "execution_count": null,
   "metadata": {
    "colab": {
     "base_uri": "https://localhost:8080/",
     "height": 435
    },
    "id": "fedN6VtvUxDC",
    "outputId": "a49906fc-76e0-41e4-e6f8-6aff1ce894e7"
   },
   "outputs": [],
   "source": [
    "import matplotlib.pyplot as plt\n",
    "%matplotlib inline\n",
    "\n",
    "x = [9, 8, 4, 2]\n",
    "y = [97, 91, 93, 81]\n",
    "\n",
    "plt.xlim(0, 10)\n",
    "plt.ylim(75, 100)\n",
    "plt.plot(x, y, 'bo')\n",
    "plt.grid()\n",
    "plt.show()"
   ]
  },
  {
   "cell_type": "markdown",
   "metadata": {
    "id": "AZoDgX3yVJqN"
   },
   "source": [
    " \\\\( y=ax+b \\\\)\n",
    "\n",
    " - a : 기울기\n",
    " - b : 절편"
   ]
  },
  {
   "cell_type": "markdown",
   "metadata": {
    "id": "Zcy0nntfaFaY"
   },
   "source": [
    "최소제곱법\n",
    "\n",
    "> \\\\( a=\\frac { (x-x평균)(y-y평균)의 합 }{ { (x-x평균) }^{ 2 }의 합 }  \\\\)\n",
    "\n",
    "- 공부한 시간(x)의 평균: (2+4+6+8) / 4 = 5\n",
    "- 성적(y)의 평균: (81+93+91+97) / 4 = 90.5\n",
    "\n",
    "> \\\\( b=y의 평균- (x의 평균 \\times 기울기 a) \\\\)\n",
    "\n",
    "- b = 90.5 - (5 x 2.3) = 79\n"
   ]
  },
  {
   "cell_type": "code",
   "execution_count": null,
   "metadata": {
    "colab": {
     "base_uri": "https://localhost:8080/"
    },
    "id": "jLWJihbwYl-9",
    "outputId": "4052b736-75e1-4ffa-dfe3-c40573933e6c"
   },
   "outputs": [],
   "source": [
    "a = ( (2-5)*(81-90.5)+(4-5)*(93-90.5)+(6-5)*(91-90.5)+(8-5)*(97-90.5) )  /  ( (2-5)**2 + (4-5)**2 + (6-5)**2 + (8-5)**2 )\n",
    "a1 = ( (2-5)*(81-90.5)+(4-5)*(93-90.5)+(6-5)*(91-90.5)+(8-5)*(97-90.5) )\n",
    "a2 = ( (2-5)**2 + (4-5)**2 + (6-5)**2 + (8-5)**2 )\n",
    "a1, a2, a"
   ]
  },
  {
   "cell_type": "code",
   "execution_count": null,
   "metadata": {
    "colab": {
     "base_uri": "https://localhost:8080/",
     "height": 430
    },
    "id": "kKnSrYz5VA2h",
    "outputId": "47e55d7f-7159-4037-85ec-386537f7a4e2"
   },
   "outputs": [],
   "source": [
    "# 오차가 최저가 되는 직선\n",
    "import numpy as np\n",
    "# 기울기 a를 최소제곱법으로 구하는 함수\n",
    "def compute_a(x, y, mean_x, mean_y):\n",
    "  # 분자부분\n",
    "  dc = 0\n",
    "  for i in range(len(x)):\n",
    "    dc += (x[i] - mean_x) * (y[i] - mean_y)\n",
    "\n",
    "  # 분모부분\n",
    "  divisor = sum([(i - mean_x)**2 for i in x])\n",
    "\n",
    "  a = dc / divisor\n",
    "  return a\n",
    "\n",
    "x = [8, 6, 4, 2]\n",
    "y = [97, 91, 93, 81]\n",
    "mx = np.mean(x)\n",
    "my = np.mean(y)\n",
    "a = compute_a(x, y, mx, my) # 기울기\n",
    "b = my - (mx *a)  # 절편\n",
    "\n",
    "y_pred = [a * x1 + b for x1 in x]\n",
    "\n",
    "plt.plot(x, y_pred, 'r-o')\n",
    "plt.plot(x, y, 'bo')\n",
    "plt.grid()\n",
    "plt.show()"
   ]
  },
  {
   "cell_type": "markdown",
   "metadata": {
    "id": "qYTV7CoIAzvM"
   },
   "source": [
    "## 선형회귀(Linear Regression) <br>\n",
    " 또는 최소제곱법(Ordinary Least Squares)"
   ]
  },
  {
   "cell_type": "markdown",
   "metadata": {
    "id": "-9dzHbsARWp5"
   },
   "source": [
    "- 종속변수(응답변수) y와 한 개 이상의 독립변수(입력변수) x와의 상관관계를 모델링한 것\n",
    "\n",
    " >  \\\\( y=Wx+b \\\\)  \n",
    "  - (W : 가중치, b : 편향(bias))\n",
    "\n",
    " > \\\\( H(x)=Wx+b \\\\)  \n",
    "  - H(x) : Linear 하게 Hypothesis(가설)을 세운다는 것\n",
    "  - 데이터를 가장 잘 대변할 수 있는 H(x)의 W와 b를 정하는 것이 Linear Regression의 목적"
   ]
  },
  {
   "cell_type": "code",
   "execution_count": null,
   "metadata": {
    "colab": {
     "base_uri": "https://localhost:8080/",
     "height": 430
    },
    "id": "tfC8D6rOEqrr",
    "outputId": "d863fca5-b7e3-46fa-cf1d-569062dce99b"
   },
   "outputs": [],
   "source": [
    "import numpy as np\n",
    "import mglearn\n",
    "\n",
    "X, y = mglearn.datasets.make_wave(100)\n",
    "\n",
    "plt.scatter(X, y)\n",
    "plt.show()"
   ]
  },
  {
   "cell_type": "code",
   "execution_count": null,
   "metadata": {
    "colab": {
     "base_uri": "https://localhost:8080/"
    },
    "id": "x9KVI_qwOhKm",
    "outputId": "493254d7-b7d1-484f-ecdc-5fedf50f0169"
   },
   "outputs": [],
   "source": [
    "import mglearn\n",
    "mglearn.plots.plot_linear_regression_wave()"
   ]
  },
  {
   "cell_type": "markdown",
   "metadata": {
    "id": "XFhwV3SGPc-h"
   },
   "source": [
    "- 비용함수 (Cost / Cost function) : 그려진 직선 Hypothesis(H(x))와 실제 데이터(y)의 차이\n",
    "\n",
    "  - Cost = H(x) - y에 데이터를 대입하여 Cost의 총합을 구하는 것이 가능\n",
    "  - Cost의 총합이 작은 Hypothesis일수록 데이터를 잘 대변하는 훌륭한 Linear Regression\n",
    "  - Cost는 양수일 수도, 음수일 수도 있기에 이러한 문제를 방지하고자 총합을 구할 때 Cost값을 제곱하여 평균을 내는 방식(평균제곱오차, MSE, Mean Squared Error)을 사용\n",
    "  >  \\\\( cost(W,b)=\\cfrac { 1 }{ m } \\sum _{ i=1 }^{ m } { (H({ x }^{ (i) })-{ y }^{ (i) }) }^{ 2 }  \\\\)\n",
    "\n",
    "   > \\\\( H(x)=Wx+b \\\\)  \n",
    "\n",
    " - 머신러닝(or 딥러닝)에서 learning의 목적은 Cost를 정의하고 이를 최소화하는 것"
   ]
  },
  {
   "cell_type": "markdown",
   "metadata": {
    "id": "Mj6fB9tA0Ztt"
   },
   "source": [
    "#### 평균제곱오차 (MSE, Mean Squared Error) - 잘못그은 선 바로잡기\n",
    "\n",
    "- 실제값과 예측값의 차이를 분석하기 위한 것\n",
    "- 음수가 존재하는 경우 오차가 줄어드는 문제 -> 자승을 취함\n",
    "- 평균오차가 자승으로 인해 커지는 문제 -> 제곱근을 취함"
   ]
  },
  {
   "cell_type": "markdown",
   "metadata": {
    "id": "M3uRN2EZ_Ig6"
   },
   "source": [
    "|x(hour) | y(score)|\n",
    "|---|---|\n",
    "|0|0|\n",
    "|1|1|\n",
    "|2|2|\n",
    "|3|3|\n",
    "\n",
    "\\\\( H(x)=1 \\times  x+0 \\\\)  \n",
    "\n",
    "\\\\( H(x)=0.5 \\times x+0 \\\\)  "
   ]
  },
  {
   "cell_type": "code",
   "execution_count": null,
   "metadata": {
    "colab": {
     "base_uri": "https://localhost:8080/",
     "height": 447
    },
    "id": "cKHxN9cc0INF",
    "outputId": "e993f4f1-fb8d-4398-d35b-c776fa7267f3"
   },
   "outputs": [],
   "source": [
    "import numpy as np\n",
    "import matplotlib.pyplot as plt\n",
    "%matplotlib inline\n",
    "\n",
    "x = np.array([0, 1, 2, 3])\n",
    "y = np.array([0, 1, 2, 3])\n",
    "\n",
    "# 가중치(계수) 및 편향(절편)\n",
    "w = 1\n",
    "b = 0\n",
    "y_pred1 = w * x + b\n",
    "plt.plot(x, y_pred1, 'b-o')\n",
    "\n",
    "w = 0.5\n",
    "b = 0\n",
    "y_pred2 = w * x + b\n",
    "plt.plot(x, y_pred2, 'b-o')\n"
   ]
  },
  {
   "cell_type": "markdown",
   "metadata": {
    "id": "J1A75RiIBl4-"
   },
   "source": [
    "#### 평균제곱오차 (MSE, Mean Squared Error) 연습 01\n",
    "가설의 MSE 값을 계산해보자.\n"
   ]
  },
  {
   "cell_type": "markdown",
   "metadata": {
    "id": "10mOqCgJB0mQ"
   },
   "source": [
    "\\\\( \\cfrac { { (H({ x }^{ (1) })-{ y }^{ (1) }) }^{ 2 } + { (H({ x }^{ (2) })-{ y }^{ (2) }) }^{ 2 }+ { (H({ x }^{ (3) })-{ y }^{ (3) }) }^{ 2 }+ { (H({ x }^{ (4) })-{ y }^{ (4) }) }^{ 2 } }{ 4 } = ? \\\\)"
   ]
  },
  {
   "cell_type": "code",
   "execution_count": null,
   "metadata": {
    "colab": {
     "base_uri": "https://localhost:8080/"
    },
    "id": "VS07VHo373-N",
    "outputId": "abe1cb5e-c1ed-4c29-bed0-317657ea598c"
   },
   "outputs": [],
   "source": [
    "# y_pred(예측값), y(실제값)\n",
    "def MSE(y_pred, y):\n",
    "  cost = np.sum((y_pred - y)**2) / len(y)\n",
    "  return cost\n",
    "\n",
    "MSE(y_pred1, y), MSE(y_pred2, y)"
   ]
  },
  {
   "cell_type": "markdown",
   "metadata": {
    "id": "Jj0QGZXbDmZW"
   },
   "source": [
    "#### 경사하강법 (Gradient descent algorithm) - 오차 수정하기\n",
    "\n",
    "어떻게 비용함수 값이 최소가 되는 W 파라미터를 구할 수 있을까?\n",
    "\n",
    "- 점진적인 하강, 점진적으로 반복적인 계산을 통해 W 파라미터 값을 업데이트 하면서 오류 값이 최소가 되는 값을 구하는 방식\n",
    "\n",
    "- 함수의 기울기(경사)를 구하여 기울기가 낮은 쪽으로\n",
    "계속 이동하여 값을 최적화 시키는 방법 <br> (오차 (기울기)가 가장 작은 방향으로 이동시키는 방법)\n"
   ]
  },
  {
   "cell_type": "markdown",
   "metadata": {
    "id": "kvkSrjnwHRAn"
   },
   "source": [
    "learning_rate(학습 속도)란?\n",
    "\n",
    "- W와 b의 미분 값(W_grad, b_grade)을 얼마만큼 반영할지를 결정하는 값.\n",
    "- 주로 0.001, 0.00001과 같은 매우 작은 값을 사용하며 learning_rate가 클수록 변화가 빠르며, learning_rate가 작을수록 변화가 느리다고 예상.\n",
    "- 꼭 변화가 빠르다고 해서 결과를 빨리 볼 수 있는 것은 아님."
   ]
  },
  {
   "cell_type": "code",
   "execution_count": null,
   "metadata": {
    "colab": {
     "base_uri": "https://localhost:8080/",
     "height": 430
    },
    "id": "VU_RbVfhFOXa",
    "outputId": "541355ed-cc56-41dd-858c-92c77920f4e0"
   },
   "outputs": [],
   "source": [
    "import numpy as np\n",
    "import matplotlib.pyplot as plt\n",
    "w_val = []\n",
    "cost_val = []\n",
    "xx_val = []\n",
    "\n",
    "n_samples = 200\n",
    "x = np.random.randn(n_samples)\n",
    "y = 2 * x + 4 + np.random.randn(n_samples)\n",
    "# plt.scatter(x, y)\n",
    "\n",
    "n_epoch = 20  # 반복횟수\n",
    "lr = 0.2      # 학습속도\n",
    "\n",
    "w = np.random.uniform()\n",
    "b = np.random.uniform()\n",
    "\n",
    "for epoch in range(n_epoch):\n",
    "  y_pred = w * x + b\n",
    "  cost = MSE(y_pred, y)\n",
    "  xx = lr * ((y_pred - y) * x).mean()\n",
    "  # print(f'{epoch:3} w={w:.6f}, b={b:.6f}, cost={cost:.6f}, lr*((y_pred-y)*x).mean()={xx:.6f}')\n",
    "\n",
    "  w = w - xx\n",
    "  b = b - lr * (y_pred - y).mean()\n",
    "\n",
    "  w_val.append(w)\n",
    "  cost_val.append(cost)\n",
    "  xx_val.append(xx)\n",
    "\n",
    "plt.plot(range(n_epoch), cost_val)\n",
    "plt.show()"
   ]
  },
  {
   "cell_type": "markdown",
   "metadata": {
    "id": "2eanx1s7gAP8"
   },
   "source": [
    "#### LinearRegression 실습 01\n",
    "\n",
    "배달시간 예측\n",
    "- 설정 거리의 장소에 배달하려면 얼마나 걸리는지 예측"
   ]
  },
  {
   "cell_type": "code",
   "execution_count": null,
   "metadata": {
    "id": "T_GscF7PgL13"
   },
   "outputs": [],
   "source": [
    "import numpy as np\n",
    "from matplotlib import pyplot as plt"
   ]
  },
  {
   "cell_type": "code",
   "execution_count": null,
   "metadata": {
    "id": "FAZbnF7wgNhW"
   },
   "outputs": [],
   "source": [
    "# 배달거리와 배달시간 데이터\n",
    "data = np.array([\n",
    "    [100, 20],\n",
    "\t\t[150, 24],\n",
    "\t\t[300, 36],\n",
    "\t\t[400, 47],\n",
    "\t\t[130, 22],\n",
    "\t\t[240, 32],\n",
    "\t\t[350, 47],\n",
    "\t\t[200, 42],\n",
    "\t\t[100, 21],\n",
    "\t\t[110, 21],\n",
    "\t\t[190, 30],\n",
    "\t\t[120, 25],\n",
    "\t\t[130, 18],\n",
    "\t\t[270, 38],\n",
    "\t\t[255, 28]])\n",
    "\n",
    "x = data[:, 0]\n",
    "y = data[:, 1]"
   ]
  },
  {
   "cell_type": "code",
   "execution_count": null,
   "metadata": {
    "colab": {
     "base_uri": "https://localhost:8080/",
     "height": 452
    },
    "id": "d_xrLY5bDehj",
    "outputId": "28c2f218-762a-45fa-ad99-a5b11bb168b7"
   },
   "outputs": [],
   "source": [
    "plt.xlim(0, 450)\n",
    "plt.ylim(0,50)\n",
    "plt.grid()\n",
    "plt.scatter(x, y)"
   ]
  },
  {
   "cell_type": "code",
   "execution_count": null,
   "metadata": {
    "colab": {
     "base_uri": "https://localhost:8080/"
    },
    "id": "9ILCBwKLg2BD",
    "outputId": "8b1fd79c-b8a9-4866-c57b-a77d2b02f567"
   },
   "outputs": [],
   "source": [
    "# 기울기 a를 최소제곱법으로 구하는 함수\n",
    "def compute_a(x, y, mean_x, mean_y):\n",
    "    dc = sum([(x[i]-mean_x)*(y[i]-mean_y)for i in range(len(x))]) # 분자 부분\n",
    "    d =  sum([(x[i]-mean_x)**2 for i in range(len(x))]) # 분모 부분\n",
    "    return dc /d\n",
    "\n",
    "mx = np.mean(x)\n",
    "my = np.mean(y)\n",
    "a =  compute_a(x, y, mx, my) # 기울기\n",
    "b =  my - (mx *a) # 절편\n",
    "a, b"
   ]
  },
  {
   "cell_type": "code",
   "execution_count": null,
   "metadata": {
    "colab": {
     "base_uri": "https://localhost:8080/",
     "height": 430
    },
    "id": "0NMbiRRHDpGX",
    "outputId": "dbab5c2c-793f-41b2-8078-24eb9847ea7a"
   },
   "outputs": [],
   "source": [
    "y_pred = [a * x1 + b for x1 in x]\n",
    "plt.plot(x, y_pred, 'r-o')\n",
    "plt.plot(x, y, 'bo')\n",
    "plt.grid()\n",
    "plt.show()"
   ]
  },
  {
   "cell_type": "markdown",
   "metadata": {
    "id": "P1L6YCM3hIwZ"
   },
   "source": [
    "- 예측하기 (거리가 350인경우 배달시간)"
   ]
  },
  {
   "cell_type": "code",
   "execution_count": null,
   "metadata": {
    "colab": {
     "base_uri": "https://localhost:8080/"
    },
    "id": "ueHua-fjDqaX",
    "outputId": "6d1d66f3-382d-4526-af39-0c03e142e82b"
   },
   "outputs": [],
   "source": [
    "t = a * 350 + b\n",
    "t"
   ]
  },
  {
   "cell_type": "markdown",
   "metadata": {
    "id": "Nbk5500uw5Kf"
   },
   "source": [
    "#### 일반 선형회귀\n",
    "\n",
    "예측값과 실제 값의 cost를 최소화할 수 있도록 W(가중치, 회귀계수)를 최적화하며, 규제(Regularization)를 적용하지 않은 모델"
   ]
  },
  {
   "cell_type": "markdown",
   "metadata": {
    "id": "yjsCKwrgsjou"
   },
   "source": [
    "단순 선형회귀 (Simple Linear Regression)\n",
    "> \\\\( H({ x })={ W }{ x }+b \\\\)\n",
    "\n",
    "다변수 선형회귀 (Multi-variable Linear Regreesion)\n",
    "> 변수가 3개 일때의 H(x) <br>\n",
    "> \\\\( H({ x }_{ 1 },{ x }_{ 2 },{ x }_{ 3 })={ W }_{ 1 }{ x }_{ 1 }+{ W }_{ 2 }{ x }_{ 2 }+{ W }_{ 3 }{ x }_{ 3 }+b \\\\)\n",
    "\n",
    "> 변수가 n개 일때의 H(x) <br>\n",
    ">  \\\\( H({ x }_{ 1 },{ x }_{ 2 },{ x }_{ 3 },\\dots ,{ x }_{ n })={ W }_{ 1 }{ x }_{ 1 }+{ W }_{ 2 }{ x }_{ 2 }+{ W }_{ 3 }{ x }_{ 3 }+\\dots +{ W }_{ n }{ x }_{ n }+b \\\\)\n",
    "\n",
    "다항 회귀 (Polynomial Regreesion)\n",
    "> 회귀가 독립변수의 단항식이 아닌 2차, 3차 방정식과 같은 다항식으로 표현되는 것 <br>\n",
    "> 차수가 높아질수록 과적합의 문제가 발생\n"
   ]
  },
  {
   "cell_type": "code",
   "execution_count": null,
   "metadata": {
    "colab": {
     "base_uri": "https://localhost:8080/",
     "height": 447
    },
    "id": "yHOmjG5DxhDn",
    "outputId": "f3add6a6-b8ec-4c20-c6bb-947b951648e9"
   },
   "outputs": [],
   "source": [
    "import numpy as np\n",
    "import matplotlib.pyplot as plt\n",
    "%matplotlib inline\n",
    "\n",
    "n = 100\n",
    "x = 6 * np.random.rand(n, 1) - 3\n",
    "y = 0.5 * x**2 + 1 * x + 2 + np.random.rand(n, 1)\n",
    "\n",
    "plt.scatter(x, y, s=5)"
   ]
  },
  {
   "cell_type": "code",
   "execution_count": null,
   "metadata": {
    "colab": {
     "base_uri": "https://localhost:8080/"
    },
    "id": "SpYNOsFfyNL_",
    "outputId": "72371bf4-a782-496e-e8bd-9c9998fec237"
   },
   "outputs": [],
   "source": [
    "from sklearn.preprocessing import PolynomialFeatures\n",
    "\n",
    "poly_features = PolynomialFeatures(degree=2, include_bias=False)\n",
    "x_poly = poly_features.fit_transform(x)\n",
    "x.shape, x_poly.shape"
   ]
  },
  {
   "cell_type": "code",
   "execution_count": null,
   "metadata": {
    "colab": {
     "base_uri": "https://localhost:8080/"
    },
    "id": "YyCW-fT9yr-y",
    "outputId": "6f090abe-3536-44a6-8b3a-72c0552f09d9"
   },
   "outputs": [],
   "source": [
    "from re import L\n",
    "from sklearn.linear_model import LinearRegression\n",
    "model = LinearRegression()\n",
    "model.fit(x_poly, y)\n",
    "model.coef_, model.intercept_\n",
    "# y = 0.5 * x**2 + 1 * x + 2"
   ]
  },
  {
   "cell_type": "markdown",
   "metadata": {
    "id": "5DxiZrfdZX5i"
   },
   "source": [
    "#### LinearRegression 실습 02\n",
    "\n",
    "wave 데이터셋에 선형회귀 적용"
   ]
  },
  {
   "cell_type": "markdown",
   "metadata": {
    "id": "kmw0fII4Zmgg"
   },
   "source": [
    "LinearRegression()\n",
    "```\n",
    "LinearRegression(fit_intercept, normalize, copy_X, n_jobs)\n",
    "```\n",
    "- fit_intercept : 모형에 상수항 (절편)이 있는가 없는가를 결정하는 인수 (default : True)\n",
    "- normalize : 매개변수 무시 여부\n",
    "- copy_X : X의 복사 여부\n",
    "- n_jobs : 계산에 사용할 작업 수"
   ]
  },
  {
   "cell_type": "code",
   "execution_count": null,
   "metadata": {
    "colab": {
     "base_uri": "https://localhost:8080/"
    },
    "id": "jVbmkpHYTbau",
    "outputId": "2a9dbbbc-62b5-4ff7-aef3-b03a01b5561e"
   },
   "outputs": [],
   "source": [
    "from sklearn.linear_model import LinearRegression\n",
    "from sklearn.model_selection import train_test_split\n",
    "import mglearn\n",
    "\n",
    "X, y = mglearn.datasets.make_wave(60)\n",
    "# plt.scatter(X, y)\n",
    "X_train, X_test, y_train, y_test = train_test_split(X, y, random_state=42)\n",
    "\n",
    "model = LinearRegression()\n",
    "model.fit(X_train, y_train)\n",
    "print('가중치(계수, 기울기, w):', model.coef_)\n",
    "print('편향(절편, b):', model.intercept_)\n",
    "\n",
    "print('훈련 점수:', model.score(X_train, y_train))\n",
    "print('테스트 점수:', model.score(X_test, y_test))"
   ]
  },
  {
   "cell_type": "markdown",
   "metadata": {
    "id": "z4Bh1Sz1a4hn"
   },
   "source": [
    "#### LinearRegression 실습 03 - 1\n",
    "변수가 1개인 경우"
   ]
  },
  {
   "cell_type": "code",
   "execution_count": null,
   "metadata": {
    "colab": {
     "base_uri": "https://localhost:8080/"
    },
    "id": "-1VVo3XXYxNp",
    "outputId": "8f8e6d5e-d4e8-4d5c-aed7-d4a238b2383d"
   },
   "outputs": [],
   "source": [
    "import numpy as np\n",
    "import pandas as pd\n",
    "import matplotlib.pyplot as plt\n",
    "%matplotlib inline\n",
    "\n",
    "n_samples = 200\n",
    "x = np.random.randn(n_samples)\n",
    "w = 2\n",
    "b = 3\n",
    "y = w * x + b + np.random.randn(n_samples)\n",
    "plt.scatter(x, y, s=10)"
   ]
  },
  {
   "cell_type": "code",
   "execution_count": null,
   "metadata": {
    "colab": {
     "base_uri": "https://localhost:8080/"
    },
    "id": "qx5BfGGRxU_a",
    "outputId": "75ecd223-bb3e-4719-af82-b6cd5bfdeace"
   },
   "outputs": [],
   "source": [
    "from sklearn.linear_model import LinearRegression\n",
    "\n",
    "X = x.reshape(-1, 1)\n",
    "model = LinearRegression()\n",
    "model.fit(X, y)\n",
    "model.coef_, model.intercept_"
   ]
  },
  {
   "cell_type": "markdown",
   "metadata": {
    "id": "Ng3cFbqyxxzD"
   },
   "source": [
    "#### LinearRegression 실습 03 - 2\n",
    "변수가 2개인 경우\n",
    "\n",
    "다변수 선형 회귀 (Multi-variable Linear Regreesion)\n",
    "\n"
   ]
  },
  {
   "cell_type": "code",
   "execution_count": null,
   "metadata": {
    "colab": {
     "base_uri": "https://localhost:8080/"
    },
    "id": "Inni1FjUEL_e",
    "outputId": "149e38c8-1416-4273-8ace-8a8414ccd2ca"
   },
   "outputs": [],
   "source": [
    "# 주어진 x1, x2, y를 가지고 선형모델 적용 후 가중치와 편향을 출력해 보세요.\n",
    "n_samples = 200\n",
    "x1 = np.random.randn(n_samples)\n",
    "x2 = np.random.randn(n_samples)\n",
    "y = 2 * x1 + 3 * x2 + 4 + np.random.randn(n_samples)\n",
    "\n",
    "X = pd.DataFrame({'x1':x1, 'x2':x2})\n",
    "X.head\n",
    "# X = np.hstack( (x1.reshape(-1, 1), x2.reshape(-1, 1)) )\n",
    "# X.shape\n",
    "model = LinearRegression()\n",
    "model.fit(X, y)\n",
    "model.coef_, model.intercept_"
   ]
  },
  {
   "cell_type": "markdown",
   "metadata": {
    "id": "oboDfCRrOH5I"
   },
   "source": [
    "#### LinearRegression 실습 04\n",
    "\n",
    "보스턴 집값 데이터셋 구성\n",
    "- 506개의 데이터\n",
    "- 13개의 정보와 1개의 클래스로 구성\n",
    "```\n",
    "0 CRIM : 인구 1인당 범죄 발생 수\n",
    "1 ZN : 25,000평방 피트 이상의 주거 구역 비중\n",
    "2 INDUS : 소매업 외 상업이 차지하는 면적 비율\n",
    "3 CHAS : 찰스강 위치 변수 (1: 강 주변, 0: 이외)\n",
    "4 NOX : 일산화질소 농도\n",
    "5 RM : 집의 평균 방 수\n",
    "6 AGE : 1940년 이전 지어진 비율\n",
    "7 DIS : 5가지 보스턴 시 고용 시설까지의 거리\n",
    "8 RAD : 순환고속도로의 접근 용이성\n",
    "9 TAX : $10,000당 부동산 세율 총계\n",
    "10 PTRATIO : 지역별 학생과 교사 비율\n",
    "11 B : 지역별 흑인 비율\n",
    "12 LSTAT : 급여가 낮은 직업에 종사하는 인구 비율 (%)\n",
    "13 MEDV : 가격 (단위 : $1,000)\n",
    "```"
   ]
  },
  {
   "cell_type": "code",
   "execution_count": null,
   "metadata": {
    "id": "jIu2HFrgPgGJ"
   },
   "outputs": [],
   "source": [
    "import numpy as np\n",
    "import pandas as pd\n",
    "import matplotlib.pyplot as plt\n",
    "import seaborn as sns\n",
    "%matplotlib inline"
   ]
  },
  {
   "cell_type": "code",
   "execution_count": null,
   "metadata": {
    "id": "DYxsl-KuRNbA"
   },
   "outputs": [],
   "source": [
    "# from sklearn.datasets import load_boston\n",
    "# boston = load_boston()\n",
    "# boston.keys()\n",
    "# boston.data.shape"
   ]
  },
  {
   "cell_type": "code",
   "execution_count": null,
   "metadata": {
    "id": "GxKxURf07OFQ"
   },
   "outputs": [],
   "source": [
    "import pandas as pd\n",
    "import numpy as np\n",
    "data_url = \"http://lib.stat.cmu.edu/datasets/boston\"\n",
    "raw_df = pd.read_csv(data_url, sep=\"\\s+\", skiprows=22, header=None)\n",
    "data = np.hstack([raw_df.values[::2, :], raw_df.values[1::2, :2]])\n",
    "target = raw_df.values[1::2, 2]"
   ]
  },
  {
   "cell_type": "code",
   "execution_count": null,
   "metadata": {
    "colab": {
     "base_uri": "https://localhost:8080/"
    },
    "id": "nvgAWeVWRjP2",
    "outputId": "ccb6fc14-139d-40d5-b385-d749e1d7852f"
   },
   "outputs": [],
   "source": [
    "# 데이터 세트 DataFrame 변환\n",
    "df = pd.DataFrame(data)\n",
    "df['PRICE'] = target\n",
    "df.head(3)"
   ]
  },
  {
   "cell_type": "code",
   "execution_count": null,
   "metadata": {
    "id": "hH9qThAMSmav"
   },
   "outputs": [],
   "source": [
    "# 훈련 데이터와 테스트 데이터 준비\n",
    "from sklearn.model_selection import train_test_split\n",
    "X = df.iloc[:, :-1]\n",
    "y = df.iloc[:, -1]\n",
    "X_train, X_test, y_train, y_test = train_test_split(X, y, random_state=0)"
   ]
  },
  {
   "cell_type": "code",
   "execution_count": null,
   "metadata": {
    "colab": {
     "base_uri": "https://localhost:8080/"
    },
    "id": "HRL2S88VTW3G",
    "outputId": "ddb8cff5-0f59-4017-a47d-94e9264a16fb"
   },
   "outputs": [],
   "source": [
    "# 모델 선택과 학습\n",
    "from sklearn.linear_model import LinearRegression\n",
    "model = LinearRegression()\n",
    "model.fit(X_train, y_train)\n",
    "print('훈련 점수:', model.score(X_train, y_train))\n",
    "print('테스트 점수:', model.score(X_test, y_test) )"
   ]
  },
  {
   "cell_type": "code",
   "execution_count": null,
   "metadata": {
    "colab": {
     "base_uri": "https://localhost:8080/"
    },
    "id": "ID272D3lV_QX",
    "outputId": "058fb39f-30f1-4d50-f206-bb49378704e8"
   },
   "outputs": [],
   "source": [
    "# 예측/평가(회귀)\n",
    "from sklearn.metrics import mean_squared_error, r2_score\n",
    "y_pred = model.predict(X_test)\n",
    "mse = mean_squared_error(y_test, y_pred)\n",
    "rmse = np.sqrt(mse)\n",
    "r2score = r2_score(y_test, y_pred)\n",
    "\n",
    "print(f'MSE={mse:.3f}, RMSE={rmse:.3f}, R2SCORE={r2score:.3f}')"
   ]
  },
  {
   "cell_type": "code",
   "execution_count": null,
   "metadata": {
    "colab": {
     "base_uri": "https://localhost:8080/"
    },
    "id": "HbuM5k3xafz0",
    "outputId": "5efc5769-143c-4c9b-d1a7-824489a29521"
   },
   "outputs": [],
   "source": [
    "# \"가중치(계수, 기울기 파라미터 W) :\"  # N 소수점 자릿수까지 반올림\n",
    "print(\"가중치(계수, 기울기 파라미터 W) :\",np.round(model.coef_, 1) )\n",
    "print(\"편향(절편 파라미터 b) :\", model.intercept_ )\n",
    "\n",
    "# 특성(피처)별 회귀 계수 값 순으로 출력\n",
    "coeff = pd.Series(data=np.round(model.coef_, 1), index=X.columns )\n",
    "coeff.sort_values( ascending=False)"
   ]
  },
  {
   "cell_type": "code",
   "execution_count": null,
   "metadata": {
    "id": "TGhB1qdcdBCW"
   },
   "outputs": [],
   "source": [
    "# 데이터 조사\n",
    "# 시각화\n",
    "# 4행 4열, axes는 4x4 개의 ax를 갖음\n",
    "# 시본의 regplot을 이용해 산점도와 선형 회귀 직선을 함께 표현\n",
    "# fig, axes = plt.subplots(4, 4, figsize=(16, 16) )\n",
    "# for i, feature in enumerate(X.columns):\n",
    "#   row = int( i / 4 )\n",
    "#   col = i % 4\n",
    "#   sns.regplot(x=feature, y='PRICE', data=df, ax=axes[row][col] )"
   ]
  },
  {
   "cell_type": "markdown",
   "metadata": {
    "id": "Mx0mlsmui5uu"
   },
   "source": [
    "#### LinearRegression 실습 05\n",
    "\n",
    "유방암 데이터셋에 선형회귀 적용"
   ]
  },
  {
   "cell_type": "code",
   "execution_count": null,
   "metadata": {
    "colab": {
     "base_uri": "https://localhost:8080/"
    },
    "id": "iahc7US0i-9j",
    "outputId": "41cb0777-caf9-4e3f-b906-766fe279cbdd"
   },
   "outputs": [],
   "source": [
    "from sklearn.datasets import load_breast_cancer\n",
    "cancer = load_breast_cancer()\n",
    "cancer.keys()"
   ]
  },
  {
   "cell_type": "code",
   "execution_count": null,
   "metadata": {
    "id": "7IXWhMIsEqQe"
   },
   "outputs": [],
   "source": [
    "X = cancer.data\n",
    "y = cancer.target\n",
    "X_train, X_test, y_train, y_test = train_test_split(X, y, random_state=0)"
   ]
  },
  {
   "cell_type": "code",
   "execution_count": null,
   "metadata": {
    "colab": {
     "base_uri": "https://localhost:8080/"
    },
    "id": "5I3KG6IKgyHn",
    "outputId": "798068d0-2214-41cc-dd1d-47325650ad16"
   },
   "outputs": [],
   "source": [
    "model = LinearRegression()\n",
    "model.fit(X_train, y_train)\n",
    "model.score(X_train, y_train)"
   ]
  },
  {
   "cell_type": "code",
   "execution_count": null,
   "metadata": {
    "colab": {
     "base_uri": "https://localhost:8080/"
    },
    "id": "Tj4fqlv0g5OP",
    "outputId": "2d5e33a4-0a9b-462a-c65d-b8b9456033d9"
   },
   "outputs": [],
   "source": [
    "model.score(X_test, y_test)"
   ]
  },
  {
   "cell_type": "markdown",
   "metadata": {
    "id": "B750N3Vajl4k"
   },
   "source": [
    "#### LinearRegression 실습 06\n",
    "\n",
    "확장 보스턴 집값 셋에 선형회귀 적용"
   ]
  },
  {
   "cell_type": "code",
   "execution_count": null,
   "metadata": {
    "id": "XZHI09W-jlXi"
   },
   "outputs": [],
   "source": [
    "# from sklearn.datasets import load_boston\n",
    "X, y = mglearn.datasets.load_extended_boston()\n"
   ]
  },
  {
   "cell_type": "code",
   "execution_count": null,
   "metadata": {
    "id": "O0Yaa78Fijzr"
   },
   "outputs": [],
   "source": [
    "X_train, X_test, y_train, y_test = train_test_split(X, y, random_state=0)"
   ]
  },
  {
   "cell_type": "code",
   "execution_count": null,
   "metadata": {
    "colab": {
     "base_uri": "https://localhost:8080/"
    },
    "id": "fyI7Fgj1ijzy",
    "outputId": "92512023-8313-4b87-d7bd-7f5caf11e9f9"
   },
   "outputs": [],
   "source": [
    "model = LinearRegression()\n",
    "model.fit(X_train, y_train)\n",
    "model.score(X_train, y_train)"
   ]
  },
  {
   "cell_type": "code",
   "execution_count": null,
   "metadata": {
    "colab": {
     "base_uri": "https://localhost:8080/"
    },
    "id": "1nxuRSW-ijzy",
    "outputId": "206a52fe-0d78-4eac-f770-852d35787bc8"
   },
   "outputs": [],
   "source": [
    "model.score(X_test, y_test)"
   ]
  },
  {
   "cell_type": "markdown",
   "metadata": {
    "id": "xBawxC6-lGjf"
   },
   "source": [
    "#### LinearRegression 실습 07\n",
    "\n",
    "붓꽃 데이터 셋에 선형회귀 적용"
   ]
  },
  {
   "cell_type": "code",
   "execution_count": null,
   "metadata": {
    "colab": {
     "base_uri": "https://localhost:8080/"
    },
    "id": "NtpSWJwNlNPm",
    "outputId": "f56e5446-7bc3-4787-961d-56b225c28799"
   },
   "outputs": [],
   "source": [
    "from sklearn.datasets import load_iris\n",
    "\n",
    "iris = load_iris()\n",
    "#sepal 꽃밭침\n",
    "#petal 꽃잎\n",
    "iris.feature_names"
   ]
  },
  {
   "cell_type": "markdown",
   "metadata": {
    "id": "4zmqaNIRlS_J"
   },
   "source": [
    "꽃받침 길이와 꽂잎 길이를 이용한 선형회귀"
   ]
  },
  {
   "cell_type": "code",
   "execution_count": null,
   "metadata": {
    "id": "zQTrmJK4lUvN"
   },
   "outputs": [],
   "source": [
    "X = iris.data[:, 0] # 꽃받침 길이\n",
    "y = iris.data[:, 2] # 꽃잎 길이"
   ]
  },
  {
   "cell_type": "code",
   "execution_count": null,
   "metadata": {
    "colab": {
     "base_uri": "https://localhost:8080/"
    },
    "id": "SnXzlTRXlXVr",
    "outputId": "9d1a4e2d-e26d-4648-da5a-fa0362a1eeff"
   },
   "outputs": [],
   "source": [
    "from sklearn.model_selection import train_test_split\n",
    "X_train, X_test, y_train, y_test = train_test_split(X.reshape(-1, 1),\n",
    "                                                    y,\n",
    "                                                    random_state=0)\n",
    "X_train.shape"
   ]
  },
  {
   "cell_type": "code",
   "execution_count": null,
   "metadata": {
    "colab": {
     "base_uri": "https://localhost:8080/",
     "height": 447
    },
    "id": "qDtadHL5lqdB",
    "outputId": "320162a5-86ed-4dc0-8c8f-45b1727ae234"
   },
   "outputs": [],
   "source": [
    "%matplotlib inline\n",
    "import matplotlib.pyplot as plt\n",
    "\n",
    "#두 가지 특성을 시각화\n",
    "plt.scatter(X_train, y_train)"
   ]
  },
  {
   "cell_type": "code",
   "execution_count": null,
   "metadata": {
    "colab": {
     "base_uri": "https://localhost:8080/"
    },
    "id": "qD2CJpBMl0m-",
    "outputId": "97255b1b-27a9-4c7c-cc5e-b79fdcbfc9f7"
   },
   "outputs": [],
   "source": [
    "from sklearn.linear_model import LinearRegression\n",
    "model = LinearRegression()\n",
    "model.fit(X_train, y_train)\n",
    "model.score(X_train, y_train)"
   ]
  },
  {
   "cell_type": "code",
   "execution_count": null,
   "metadata": {
    "colab": {
     "base_uri": "https://localhost:8080/"
    },
    "id": "6XvUKESFkhOY",
    "outputId": "575392a1-73b4-4bb4-f8b7-f745416cad82"
   },
   "outputs": [],
   "source": [
    "model.score(X_test, y_test)"
   ]
  },
  {
   "cell_type": "code",
   "execution_count": null,
   "metadata": {
    "colab": {
     "base_uri": "https://localhost:8080/",
     "height": 451
    },
    "id": "C35xMTmGkmNN",
    "outputId": "8e4d5ce9-d63a-49b2-ac88-240b75cad4fe"
   },
   "outputs": [],
   "source": [
    "plt.scatter(X_train, y_train)\n",
    "xx = np.linspace(4, 8, 200)\n",
    "yy = model.coef_ * xx + model.intercept_\n",
    "plt.scatter(xx, yy, marker='.')"
   ]
  },
  {
   "cell_type": "markdown",
   "metadata": {
    "id": "gJmspcqamCaP"
   },
   "source": [
    "꽃잎 길이와 꽂잎 너비를 이용한 선형회귀"
   ]
  },
  {
   "cell_type": "code",
   "execution_count": null,
   "metadata": {
    "colab": {
     "base_uri": "https://localhost:8080/"
    },
    "id": "DIDnuj8OlYL1",
    "outputId": "99d66031-1dce-49e5-941c-a70bcdcd8d60"
   },
   "outputs": [],
   "source": [
    "iris.feature_names"
   ]
  },
  {
   "cell_type": "code",
   "execution_count": null,
   "metadata": {
    "id": "D3il8IRunE8B"
   },
   "outputs": [],
   "source": [
    "X = iris.data[:, 2] # 꽃잎 길이\n",
    "y = iris.data[:, 3] # 꽃잎 너비"
   ]
  },
  {
   "cell_type": "code",
   "execution_count": null,
   "metadata": {
    "colab": {
     "base_uri": "https://localhost:8080/"
    },
    "id": "S6F_ZPxKnE8D",
    "outputId": "ba9168e2-fc1a-43b1-8296-3b46f0e98005"
   },
   "outputs": [],
   "source": [
    "from sklearn.model_selection import train_test_split\n",
    "X_train, X_test, y_train, y_test = train_test_split(X.reshape(-1, 1),\n",
    "                                                    y,\n",
    "                                                    test_size=0.2,\n",
    "                                                    random_state=0)\n",
    "X_train.shape"
   ]
  },
  {
   "cell_type": "code",
   "execution_count": null,
   "metadata": {
    "colab": {
     "base_uri": "https://localhost:8080/",
     "height": 447
    },
    "id": "6RXRKxltnE8D",
    "outputId": "0d1c1704-75e1-4eef-dc90-bd78c588a96e"
   },
   "outputs": [],
   "source": [
    "%matplotlib inline\n",
    "import matplotlib.pyplot as plt\n",
    "\n",
    "#두 가지 특성을 시각화\n",
    "plt.scatter(X_train, y_train)"
   ]
  },
  {
   "cell_type": "code",
   "execution_count": null,
   "metadata": {
    "colab": {
     "base_uri": "https://localhost:8080/"
    },
    "id": "4mjWZwRanE8E",
    "outputId": "de993a8e-46ee-430b-dc04-d5737002803f"
   },
   "outputs": [],
   "source": [
    "from sklearn.linear_model import LinearRegression\n",
    "model = LinearRegression()\n",
    "model.fit(X_train, y_train)\n",
    "model.score(X_train, y_train)"
   ]
  },
  {
   "cell_type": "code",
   "execution_count": null,
   "metadata": {
    "colab": {
     "base_uri": "https://localhost:8080/"
    },
    "id": "7K7vuxJPnE8E",
    "outputId": "3f9bff4b-51fe-4a95-aba8-e4a7c40a7ac7"
   },
   "outputs": [],
   "source": [
    "model.score(X_test, y_test)"
   ]
  },
  {
   "cell_type": "code",
   "execution_count": null,
   "metadata": {
    "colab": {
     "base_uri": "https://localhost:8080/"
    },
    "id": "BztLAZApnE8E",
    "outputId": "a405c573-d341-4797-9619-065db44e0a30"
   },
   "outputs": [],
   "source": [
    "plt.scatter(X_train, y_train)\n",
    "xx = np.linspace(0, 7, 200)\n",
    "yy = model.coef_ * xx + model.intercept_\n",
    "plt.scatter(xx, yy, marker='.')"
   ]
  },
  {
   "cell_type": "markdown",
   "metadata": {
    "id": "rRVAtuhqQ5AF"
   },
   "source": [
    "장단점\n",
    "\n",
    "- k-NN에 비해 더 제약이 있는 것처럼 보이지만 특성이 많은 데이터셋의 경우에는 우수한 성능을 낼 수 있다.\n",
    "- 모델의 복잡도를 제어할 방법이 없어 과대적합 되기 쉽다.\n"
   ]
  },
  {
   "cell_type": "markdown",
   "metadata": {
    "id": "YqmSlQlSQwI8"
   },
   "source": [
    "Next. 모델 정규화(Regularization, 규제)을 통해 과대적합을 제어"
   ]
  }
 ],
 "metadata": {
  "colab": {
   "provenance": []
  },
  "kernelspec": {
   "display_name": "Python 3 (ipykernel)",
   "language": "python",
   "name": "python3"
  },
  "language_info": {
   "codemirror_mode": {
    "name": "ipython",
    "version": 3
   },
   "file_extension": ".py",
   "mimetype": "text/x-python",
   "name": "python",
   "nbconvert_exporter": "python",
   "pygments_lexer": "ipython3",
   "version": "3.11.9"
  }
 },
 "nbformat": 4,
 "nbformat_minor": 4
}
